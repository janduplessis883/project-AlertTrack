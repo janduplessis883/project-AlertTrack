{
 "cells": [
  {
   "cell_type": "code",
   "execution_count": 12,
   "id": "27a39d77-1d40-4389-87c9-58c304d6393c",
   "metadata": {
    "execution": {
     "iopub.execute_input": "2025-07-17T18:47:42.380497Z",
     "iopub.status.busy": "2025-07-17T18:47:42.379820Z",
     "iopub.status.idle": "2025-07-17T18:47:42.385023Z",
     "shell.execute_reply": "2025-07-17T18:47:42.384067Z",
     "shell.execute_reply.started": "2025-07-17T18:47:42.380452Z"
    }
   },
   "outputs": [],
   "source": [
    "import pandas as pd\n",
    "from tqdm import tqdm"
   ]
  },
  {
   "cell_type": "code",
   "execution_count": 13,
   "id": "fa81cb9b-648a-4615-a8e3-9d3b81900c39",
   "metadata": {
    "execution": {
     "iopub.execute_input": "2025-07-17T18:47:43.053878Z",
     "iopub.status.busy": "2025-07-17T18:47:43.053322Z",
     "iopub.status.idle": "2025-07-17T18:47:43.068153Z",
     "shell.execute_reply": "2025-07-17T18:47:43.067279Z",
     "shell.execute_reply.started": "2025-07-17T18:47:43.053852Z"
    }
   },
   "outputs": [],
   "source": [
    "data = pd.read_csv('../data/data.csv')"
   ]
  },
  {
   "cell_type": "code",
   "execution_count": 14,
   "id": "bcb144c6-0440-450d-b13d-7d3e48cf399c",
   "metadata": {
    "execution": {
     "iopub.execute_input": "2025-07-17T18:47:43.812538Z",
     "iopub.status.busy": "2025-07-17T18:47:43.812155Z",
     "iopub.status.idle": "2025-07-17T18:47:43.820682Z",
     "shell.execute_reply": "2025-07-17T18:47:43.820336Z",
     "shell.execute_reply.started": "2025-07-17T18:47:43.812511Z"
    }
   },
   "outputs": [
    {
     "data": {
      "text/html": [
       "<div>\n",
       "<style scoped>\n",
       "    .dataframe tbody tr th:only-of-type {\n",
       "        vertical-align: middle;\n",
       "    }\n",
       "\n",
       "    .dataframe tbody tr th {\n",
       "        vertical-align: top;\n",
       "    }\n",
       "\n",
       "    .dataframe thead th {\n",
       "        text-align: right;\n",
       "    }\n",
       "</style>\n",
       "<table border=\"1\" class=\"dataframe\">\n",
       "  <thead>\n",
       "    <tr style=\"text-align: right;\">\n",
       "      <th></th>\n",
       "      <th>publish_date</th>\n",
       "      <th>title</th>\n",
       "      <th>url</th>\n",
       "      <th>detail</th>\n",
       "      <th>alert_pdf</th>\n",
       "      <th>pdf</th>\n",
       "      <th>therapeutic</th>\n",
       "      <th>pdf_text</th>\n",
       "    </tr>\n",
       "  </thead>\n",
       "  <tbody>\n",
       "    <tr>\n",
       "      <th>0</th>\n",
       "      <td>2025-07-07</td>\n",
       "      <td>Abrysvo▼ (Pfizer RSV vaccine) and Arexvy▼ (GSK...</td>\n",
       "      <td>https://www.gov.uk/drug-safety-update/abrysvov...</td>\n",
       "      <td>## Cookies on GOV.UK\\n\\nWe use some essential ...</td>\n",
       "      <td>NaN</td>\n",
       "      <td>https://assets.publishing.service.gov.uk/media...</td>\n",
       "      <td>Anaesthesia and intensive care, General practi...</td>\n",
       "      <td>\\n \\nPage 1 of 4 \\n07 July 2025  \\nDRUG SAFE...</td>\n",
       "    </tr>\n",
       "    <tr>\n",
       "      <th>1</th>\n",
       "      <td>2025-06-18</td>\n",
       "      <td>IXCHIQ Chikungunya vaccine: temporary suspensi...</td>\n",
       "      <td>https://www.gov.uk/drug-safety-update/ixchiq-c...</td>\n",
       "      <td>## Cookies on GOV.UK\\n\\nWe use some essential ...</td>\n",
       "      <td>NaN</td>\n",
       "      <td>https://assets.publishing.service.gov.uk/media...</td>\n",
       "      <td>Immunology and vaccination, Infection preventi...</td>\n",
       "      <td>\\n \\nPage 1 of 4 \\n18 June 2025  \\nDRUG SAFET...</td>\n",
       "    </tr>\n",
       "    <tr>\n",
       "      <th>2</th>\n",
       "      <td>2025-06-10</td>\n",
       "      <td>Valproate (Belvo, Convulex, Depakote, Dyzantil...</td>\n",
       "      <td>https://www.gov.uk/drug-safety-update/valproat...</td>\n",
       "      <td>## Cookies on GOV.UK\\n\\nWe use some essential ...</td>\n",
       "      <td>NaN</td>\n",
       "      <td>https://assets.publishing.service.gov.uk/media...</td>\n",
       "      <td>General practice, Neurology, Obstetrics, gynae...</td>\n",
       "      <td>...</td>\n",
       "    </tr>\n",
       "    <tr>\n",
       "      <th>3</th>\n",
       "      <td>2025-05-15</td>\n",
       "      <td>Thiopurines and intrahepatic cholestasis of pr...</td>\n",
       "      <td>https://www.gov.uk/drug-safety-update/thiopuri...</td>\n",
       "      <td>## Cookies on GOV.UK\\n\\nWe use some essential ...</td>\n",
       "      <td>NaN</td>\n",
       "      <td>https://assets.publishing.service.gov.uk/media...</td>\n",
       "      <td>Cancer, Dermatology, GI, hepatology and pancre...</td>\n",
       "      <td>\\n \\nPage 1 of 3 \\n15 May 2 025  \\nDRUG SAFET...</td>\n",
       "    </tr>\n",
       "    <tr>\n",
       "      <th>4</th>\n",
       "      <td>2025-05-07</td>\n",
       "      <td>Kaftrio▼ (Ivacaftor, tezacaftor, elexacaftor):...</td>\n",
       "      <td>https://www.gov.uk/drug-safety-update/kaftriov...</td>\n",
       "      <td>## Cookies on GOV.UK\\n\\nWe use some essential ...</td>\n",
       "      <td>NaN</td>\n",
       "      <td>https://assets.publishing.service.gov.uk/media...</td>\n",
       "      <td>General practice, Pharmacy, Respiratory diseas...</td>\n",
       "      <td>\\n \\nPage 1 of 4 \\n07 May 2025    \\nDRUG  SAF...</td>\n",
       "    </tr>\n",
       "  </tbody>\n",
       "</table>\n",
       "</div>"
      ],
      "text/plain": [
       "  publish_date                                              title  \\\n",
       "0   2025-07-07  Abrysvo▼ (Pfizer RSV vaccine) and Arexvy▼ (GSK...   \n",
       "1   2025-06-18  IXCHIQ Chikungunya vaccine: temporary suspensi...   \n",
       "2   2025-06-10  Valproate (Belvo, Convulex, Depakote, Dyzantil...   \n",
       "3   2025-05-15  Thiopurines and intrahepatic cholestasis of pr...   \n",
       "4   2025-05-07  Kaftrio▼ (Ivacaftor, tezacaftor, elexacaftor):...   \n",
       "\n",
       "                                                 url  \\\n",
       "0  https://www.gov.uk/drug-safety-update/abrysvov...   \n",
       "1  https://www.gov.uk/drug-safety-update/ixchiq-c...   \n",
       "2  https://www.gov.uk/drug-safety-update/valproat...   \n",
       "3  https://www.gov.uk/drug-safety-update/thiopuri...   \n",
       "4  https://www.gov.uk/drug-safety-update/kaftriov...   \n",
       "\n",
       "                                              detail  alert_pdf  \\\n",
       "0  ## Cookies on GOV.UK\\n\\nWe use some essential ...        NaN   \n",
       "1  ## Cookies on GOV.UK\\n\\nWe use some essential ...        NaN   \n",
       "2  ## Cookies on GOV.UK\\n\\nWe use some essential ...        NaN   \n",
       "3  ## Cookies on GOV.UK\\n\\nWe use some essential ...        NaN   \n",
       "4  ## Cookies on GOV.UK\\n\\nWe use some essential ...        NaN   \n",
       "\n",
       "                                                 pdf  \\\n",
       "0  https://assets.publishing.service.gov.uk/media...   \n",
       "1  https://assets.publishing.service.gov.uk/media...   \n",
       "2  https://assets.publishing.service.gov.uk/media...   \n",
       "3  https://assets.publishing.service.gov.uk/media...   \n",
       "4  https://assets.publishing.service.gov.uk/media...   \n",
       "\n",
       "                                         therapeutic  \\\n",
       "0  Anaesthesia and intensive care, General practi...   \n",
       "1  Immunology and vaccination, Infection preventi...   \n",
       "2  General practice, Neurology, Obstetrics, gynae...   \n",
       "3  Cancer, Dermatology, GI, hepatology and pancre...   \n",
       "4  General practice, Pharmacy, Respiratory diseas...   \n",
       "\n",
       "                                            pdf_text  \n",
       "0    \\n \\nPage 1 of 4 \\n07 July 2025  \\nDRUG SAFE...  \n",
       "1   \\n \\nPage 1 of 4 \\n18 June 2025  \\nDRUG SAFET...  \n",
       "2                                                ...  \n",
       "3   \\n \\nPage 1 of 3 \\n15 May 2 025  \\nDRUG SAFET...  \n",
       "4   \\n \\nPage 1 of 4 \\n07 May 2025    \\nDRUG  SAF...  "
      ]
     },
     "execution_count": 14,
     "metadata": {},
     "output_type": "execute_result"
    }
   ],
   "source": [
    "data.head()"
   ]
  },
  {
   "cell_type": "code",
   "execution_count": 8,
   "id": "f6ba5e0b-a37d-48f3-b098-31d6e3919132",
   "metadata": {
    "execution": {
     "iopub.execute_input": "2025-07-17T18:31:56.927468Z",
     "iopub.status.busy": "2025-07-17T18:31:56.926472Z",
     "iopub.status.idle": "2025-07-17T18:32:06.824167Z",
     "shell.execute_reply": "2025-07-17T18:32:06.823925Z",
     "shell.execute_reply.started": "2025-07-17T18:31:56.927409Z"
    }
   },
   "outputs": [
    {
     "name": "stderr",
     "output_type": "stream",
     "text": [
      "100%|█████████████████████████████████████████████████████████████████████████████████████████████████████████████████████████████████████| 50/50 [00:09<00:00,  5.06it/s]\n"
     ]
    }
   ],
   "source": [
    "from pdf_extract import *\n",
    "\n",
    "pdf_content = []\n",
    "\n",
    "for index, row in tqdm(data.iterrows(), total=data.shape[0]):\n",
    "    url = row['pdf']\n",
    "    output = extract_text_from_pdf_url(url)\n",
    "    pdf_content.append(output)\n",
    "    \n",
    "data['pdf_text'] = pdf_content"
   ]
  },
  {
   "cell_type": "code",
   "execution_count": 9,
   "id": "3d9d747c-a1db-412e-bd71-3b13f2b9a37d",
   "metadata": {
    "execution": {
     "iopub.execute_input": "2025-07-17T18:32:15.948092Z",
     "iopub.status.busy": "2025-07-17T18:32:15.947531Z",
     "iopub.status.idle": "2025-07-17T18:32:15.956557Z",
     "shell.execute_reply": "2025-07-17T18:32:15.956183Z",
     "shell.execute_reply.started": "2025-07-17T18:32:15.948050Z"
    }
   },
   "outputs": [
    {
     "data": {
      "text/html": [
       "<div>\n",
       "<style scoped>\n",
       "    .dataframe tbody tr th:only-of-type {\n",
       "        vertical-align: middle;\n",
       "    }\n",
       "\n",
       "    .dataframe tbody tr th {\n",
       "        vertical-align: top;\n",
       "    }\n",
       "\n",
       "    .dataframe thead th {\n",
       "        text-align: right;\n",
       "    }\n",
       "</style>\n",
       "<table border=\"1\" class=\"dataframe\">\n",
       "  <thead>\n",
       "    <tr style=\"text-align: right;\">\n",
       "      <th></th>\n",
       "      <th>publish_date</th>\n",
       "      <th>title</th>\n",
       "      <th>url</th>\n",
       "      <th>detail</th>\n",
       "      <th>alert_pdf</th>\n",
       "      <th>pdf</th>\n",
       "      <th>therapeutic</th>\n",
       "      <th>pdf_text</th>\n",
       "    </tr>\n",
       "  </thead>\n",
       "  <tbody>\n",
       "    <tr>\n",
       "      <th>0</th>\n",
       "      <td>2025-07-07</td>\n",
       "      <td>Abrysvo▼ (Pfizer RSV vaccine) and Arexvy▼ (GSK...</td>\n",
       "      <td>https://www.gov.uk/drug-safety-update/abrysvov...</td>\n",
       "      <td>## Cookies on GOV.UK\\n\\nWe use some essential ...</td>\n",
       "      <td>NaN</td>\n",
       "      <td>https://assets.publishing.service.gov.uk/media...</td>\n",
       "      <td>Anaesthesia and intensive care, General practi...</td>\n",
       "      <td>\\n \\nPage 1 of 4 \\n07 July 2025  \\nDRUG SAFE...</td>\n",
       "    </tr>\n",
       "    <tr>\n",
       "      <th>1</th>\n",
       "      <td>2025-06-18</td>\n",
       "      <td>IXCHIQ Chikungunya vaccine: temporary suspensi...</td>\n",
       "      <td>https://www.gov.uk/drug-safety-update/ixchiq-c...</td>\n",
       "      <td>## Cookies on GOV.UK\\n\\nWe use some essential ...</td>\n",
       "      <td>NaN</td>\n",
       "      <td>https://assets.publishing.service.gov.uk/media...</td>\n",
       "      <td>Immunology and vaccination, Infection preventi...</td>\n",
       "      <td>\\n \\nPage 1 of 4 \\n18 June 2025  \\nDRUG SAFET...</td>\n",
       "    </tr>\n",
       "    <tr>\n",
       "      <th>2</th>\n",
       "      <td>2025-06-10</td>\n",
       "      <td>Valproate (Belvo, Convulex, Depakote, Dyzantil...</td>\n",
       "      <td>https://www.gov.uk/drug-safety-update/valproat...</td>\n",
       "      <td>## Cookies on GOV.UK\\n\\nWe use some essential ...</td>\n",
       "      <td>NaN</td>\n",
       "      <td>https://assets.publishing.service.gov.uk/media...</td>\n",
       "      <td>General practice, Neurology, Obstetrics, gynae...</td>\n",
       "      <td>...</td>\n",
       "    </tr>\n",
       "    <tr>\n",
       "      <th>3</th>\n",
       "      <td>2025-05-15</td>\n",
       "      <td>Thiopurines and intrahepatic cholestasis of pr...</td>\n",
       "      <td>https://www.gov.uk/drug-safety-update/thiopuri...</td>\n",
       "      <td>## Cookies on GOV.UK\\n\\nWe use some essential ...</td>\n",
       "      <td>NaN</td>\n",
       "      <td>https://assets.publishing.service.gov.uk/media...</td>\n",
       "      <td>Cancer, Dermatology, GI, hepatology and pancre...</td>\n",
       "      <td>\\n \\nPage 1 of 3 \\n15 May 2 025  \\nDRUG SAFET...</td>\n",
       "    </tr>\n",
       "    <tr>\n",
       "      <th>4</th>\n",
       "      <td>2025-05-07</td>\n",
       "      <td>Kaftrio▼ (Ivacaftor, tezacaftor, elexacaftor):...</td>\n",
       "      <td>https://www.gov.uk/drug-safety-update/kaftriov...</td>\n",
       "      <td>## Cookies on GOV.UK\\n\\nWe use some essential ...</td>\n",
       "      <td>NaN</td>\n",
       "      <td>https://assets.publishing.service.gov.uk/media...</td>\n",
       "      <td>General practice, Pharmacy, Respiratory diseas...</td>\n",
       "      <td>\\n \\nPage 1 of 4 \\n07 May 2025    \\nDRUG  SAF...</td>\n",
       "    </tr>\n",
       "  </tbody>\n",
       "</table>\n",
       "</div>"
      ],
      "text/plain": [
       "  publish_date                                              title  \\\n",
       "0   2025-07-07  Abrysvo▼ (Pfizer RSV vaccine) and Arexvy▼ (GSK...   \n",
       "1   2025-06-18  IXCHIQ Chikungunya vaccine: temporary suspensi...   \n",
       "2   2025-06-10  Valproate (Belvo, Convulex, Depakote, Dyzantil...   \n",
       "3   2025-05-15  Thiopurines and intrahepatic cholestasis of pr...   \n",
       "4   2025-05-07  Kaftrio▼ (Ivacaftor, tezacaftor, elexacaftor):...   \n",
       "\n",
       "                                                 url  \\\n",
       "0  https://www.gov.uk/drug-safety-update/abrysvov...   \n",
       "1  https://www.gov.uk/drug-safety-update/ixchiq-c...   \n",
       "2  https://www.gov.uk/drug-safety-update/valproat...   \n",
       "3  https://www.gov.uk/drug-safety-update/thiopuri...   \n",
       "4  https://www.gov.uk/drug-safety-update/kaftriov...   \n",
       "\n",
       "                                              detail  alert_pdf  \\\n",
       "0  ## Cookies on GOV.UK\\n\\nWe use some essential ...        NaN   \n",
       "1  ## Cookies on GOV.UK\\n\\nWe use some essential ...        NaN   \n",
       "2  ## Cookies on GOV.UK\\n\\nWe use some essential ...        NaN   \n",
       "3  ## Cookies on GOV.UK\\n\\nWe use some essential ...        NaN   \n",
       "4  ## Cookies on GOV.UK\\n\\nWe use some essential ...        NaN   \n",
       "\n",
       "                                                 pdf  \\\n",
       "0  https://assets.publishing.service.gov.uk/media...   \n",
       "1  https://assets.publishing.service.gov.uk/media...   \n",
       "2  https://assets.publishing.service.gov.uk/media...   \n",
       "3  https://assets.publishing.service.gov.uk/media...   \n",
       "4  https://assets.publishing.service.gov.uk/media...   \n",
       "\n",
       "                                         therapeutic  \\\n",
       "0  Anaesthesia and intensive care, General practi...   \n",
       "1  Immunology and vaccination, Infection preventi...   \n",
       "2  General practice, Neurology, Obstetrics, gynae...   \n",
       "3  Cancer, Dermatology, GI, hepatology and pancre...   \n",
       "4  General practice, Pharmacy, Respiratory diseas...   \n",
       "\n",
       "                                            pdf_text  \n",
       "0    \\n \\nPage 1 of 4 \\n07 July 2025  \\nDRUG SAFE...  \n",
       "1   \\n \\nPage 1 of 4 \\n18 June 2025  \\nDRUG SAFET...  \n",
       "2                                                ...  \n",
       "3   \\n \\nPage 1 of 3 \\n15 May 2 025  \\nDRUG SAFET...  \n",
       "4   \\n \\nPage 1 of 4 \\n07 May 2025    \\nDRUG  SAF...  "
      ]
     },
     "execution_count": 9,
     "metadata": {},
     "output_type": "execute_result"
    }
   ],
   "source": [
    "data.head()"
   ]
  },
  {
   "cell_type": "code",
   "execution_count": 10,
   "id": "d9a7df6c-d890-4cfb-958f-7e2fa1e44286",
   "metadata": {
    "execution": {
     "iopub.execute_input": "2025-07-17T18:33:16.871620Z",
     "iopub.status.busy": "2025-07-17T18:33:16.871156Z",
     "iopub.status.idle": "2025-07-17T18:33:16.890148Z",
     "shell.execute_reply": "2025-07-17T18:33:16.889607Z",
     "shell.execute_reply.started": "2025-07-17T18:33:16.871597Z"
    }
   },
   "outputs": [],
   "source": [
    "data.to_csv('../data/data.csv', index=False)"
   ]
  },
  {
   "cell_type": "code",
   "execution_count": 9,
   "id": "28e7a939-477b-4b34-9cef-c13ec99d5987",
   "metadata": {
    "execution": {
     "iopub.execute_input": "2025-07-14T21:47:16.688939Z",
     "iopub.status.busy": "2025-07-14T21:47:16.688565Z",
     "iopub.status.idle": "2025-07-14T21:47:16.697398Z",
     "shell.execute_reply": "2025-07-14T21:47:16.697025Z",
     "shell.execute_reply.started": "2025-07-14T21:47:16.688917Z"
    }
   },
   "outputs": [
    {
     "data": {
      "text/html": [
       "<div>\n",
       "<style scoped>\n",
       "    .dataframe tbody tr th:only-of-type {\n",
       "        vertical-align: middle;\n",
       "    }\n",
       "\n",
       "    .dataframe tbody tr th {\n",
       "        vertical-align: top;\n",
       "    }\n",
       "\n",
       "    .dataframe thead th {\n",
       "        text-align: right;\n",
       "    }\n",
       "</style>\n",
       "<table border=\"1\" class=\"dataframe\">\n",
       "  <thead>\n",
       "    <tr style=\"text-align: right;\">\n",
       "      <th></th>\n",
       "      <th>publish_date</th>\n",
       "      <th>title</th>\n",
       "      <th>url</th>\n",
       "      <th>detail</th>\n",
       "      <th>detail2</th>\n",
       "      <th>clean</th>\n",
       "    </tr>\n",
       "  </thead>\n",
       "  <tbody>\n",
       "    <tr>\n",
       "      <th>0</th>\n",
       "      <td>2025-07-07</td>\n",
       "      <td>Abrysvo▼ (Pfizer RSV vaccine) and Arexvy▼ (GSK...</td>\n",
       "      <td>https://www.gov.uk/drug-safety-update/abrysvov...</td>\n",
       "      <td>## Cookies on GOV.UK\\n\\nWe use some essential ...</td>\n",
       "      <td>## Cookies on GOV.UK\\n\\nWe use some essential ...</td>\n",
       "      <td># Cookies on GOV.UK\\n\\nWe use some essential c...</td>\n",
       "    </tr>\n",
       "    <tr>\n",
       "      <th>1</th>\n",
       "      <td>2025-06-18</td>\n",
       "      <td>IXCHIQ Chikungunya vaccine: temporary suspensi...</td>\n",
       "      <td>https://www.gov.uk/drug-safety-update/ixchiq-c...</td>\n",
       "      <td>## Cookies on GOV.UK\\n\\nWe use some essential ...</td>\n",
       "      <td>## Cookies on GOV.UK\\n\\nWe use some essential ...</td>\n",
       "      <td># Cookies on GOV.UK\\n\\nWe use some essential c...</td>\n",
       "    </tr>\n",
       "    <tr>\n",
       "      <th>2</th>\n",
       "      <td>2025-06-10</td>\n",
       "      <td>Valproate (Belvo, Convulex, Depakote, Dyzantil...</td>\n",
       "      <td>https://www.gov.uk/drug-safety-update/valproat...</td>\n",
       "      <td>## Cookies on GOV.UK\\n\\nWe use some essential ...</td>\n",
       "      <td>## Cookies on GOV.UK\\n\\nWe use some essential ...</td>\n",
       "      <td># Cookies on GOV.UK\\n\\nWe use some essential c...</td>\n",
       "    </tr>\n",
       "    <tr>\n",
       "      <th>3</th>\n",
       "      <td>2025-05-15</td>\n",
       "      <td>Thiopurines and intrahepatic cholestasis of pr...</td>\n",
       "      <td>https://www.gov.uk/drug-safety-update/thiopuri...</td>\n",
       "      <td>## Cookies on GOV.UK\\n\\nWe use some essential ...</td>\n",
       "      <td>## Cookies on GOV.UK\\n\\nWe use some essential ...</td>\n",
       "      <td># Cookies on GOV.UK\\n\\nWe use some essential c...</td>\n",
       "    </tr>\n",
       "    <tr>\n",
       "      <th>4</th>\n",
       "      <td>2025-05-07</td>\n",
       "      <td>Kaftrio▼ (Ivacaftor, tezacaftor, elexacaftor):...</td>\n",
       "      <td>https://www.gov.uk/drug-safety-update/kaftriov...</td>\n",
       "      <td>## Cookies on GOV.UK\\n\\nWe use some essential ...</td>\n",
       "      <td>## Cookies on GOV.UK\\n\\nWe use some essential ...</td>\n",
       "      <td># Cookies on GOV.UK\\n\\nWe use some essential c...</td>\n",
       "    </tr>\n",
       "  </tbody>\n",
       "</table>\n",
       "</div>"
      ],
      "text/plain": [
       "  publish_date                                              title  \\\n",
       "0   2025-07-07  Abrysvo▼ (Pfizer RSV vaccine) and Arexvy▼ (GSK...   \n",
       "1   2025-06-18  IXCHIQ Chikungunya vaccine: temporary suspensi...   \n",
       "2   2025-06-10  Valproate (Belvo, Convulex, Depakote, Dyzantil...   \n",
       "3   2025-05-15  Thiopurines and intrahepatic cholestasis of pr...   \n",
       "4   2025-05-07  Kaftrio▼ (Ivacaftor, tezacaftor, elexacaftor):...   \n",
       "\n",
       "                                                 url  \\\n",
       "0  https://www.gov.uk/drug-safety-update/abrysvov...   \n",
       "1  https://www.gov.uk/drug-safety-update/ixchiq-c...   \n",
       "2  https://www.gov.uk/drug-safety-update/valproat...   \n",
       "3  https://www.gov.uk/drug-safety-update/thiopuri...   \n",
       "4  https://www.gov.uk/drug-safety-update/kaftriov...   \n",
       "\n",
       "                                              detail  \\\n",
       "0  ## Cookies on GOV.UK\\n\\nWe use some essential ...   \n",
       "1  ## Cookies on GOV.UK\\n\\nWe use some essential ...   \n",
       "2  ## Cookies on GOV.UK\\n\\nWe use some essential ...   \n",
       "3  ## Cookies on GOV.UK\\n\\nWe use some essential ...   \n",
       "4  ## Cookies on GOV.UK\\n\\nWe use some essential ...   \n",
       "\n",
       "                                             detail2  \\\n",
       "0  ## Cookies on GOV.UK\\n\\nWe use some essential ...   \n",
       "1  ## Cookies on GOV.UK\\n\\nWe use some essential ...   \n",
       "2  ## Cookies on GOV.UK\\n\\nWe use some essential ...   \n",
       "3  ## Cookies on GOV.UK\\n\\nWe use some essential ...   \n",
       "4  ## Cookies on GOV.UK\\n\\nWe use some essential ...   \n",
       "\n",
       "                                               clean  \n",
       "0  # Cookies on GOV.UK\\n\\nWe use some essential c...  \n",
       "1  # Cookies on GOV.UK\\n\\nWe use some essential c...  \n",
       "2  # Cookies on GOV.UK\\n\\nWe use some essential c...  \n",
       "3  # Cookies on GOV.UK\\n\\nWe use some essential c...  \n",
       "4  # Cookies on GOV.UK\\n\\nWe use some essential c...  "
      ]
     },
     "execution_count": 9,
     "metadata": {},
     "output_type": "execute_result"
    }
   ],
   "source": []
  },
  {
   "cell_type": "code",
   "execution_count": 11,
   "id": "2fe7ea07-7d7a-4c40-9bdf-73caeb39f68b",
   "metadata": {
    "execution": {
     "iopub.execute_input": "2025-07-17T18:33:29.373411Z",
     "iopub.status.busy": "2025-07-17T18:33:29.372945Z",
     "iopub.status.idle": "2025-07-17T18:33:29.378639Z",
     "shell.execute_reply": "2025-07-17T18:33:29.377646Z",
     "shell.execute_reply.started": "2025-07-17T18:33:29.373384Z"
    }
   },
   "outputs": [
    {
     "data": {
      "text/plain": [
       "Index(['publish_date', 'title', 'url', 'detail', 'alert_pdf', 'pdf',\n",
       "       'therapeutic', 'pdf_text'],\n",
       "      dtype='object')"
      ]
     },
     "execution_count": 11,
     "metadata": {},
     "output_type": "execute_result"
    }
   ],
   "source": [
    "data.columns"
   ]
  },
  {
   "cell_type": "code",
   "execution_count": null,
   "id": "c6b30a94-4c66-4b1e-8885-887ffabeacba",
   "metadata": {},
   "outputs": [],
   "source": []
  }
 ],
 "metadata": {
  "kernelspec": {
   "display_name": "Python 3 (ipykernel)",
   "language": "python",
   "name": "python3"
  },
  "language_info": {
   "codemirror_mode": {
    "name": "ipython",
    "version": 3
   },
   "file_extension": ".py",
   "mimetype": "text/x-python",
   "name": "python",
   "nbconvert_exporter": "python",
   "pygments_lexer": "ipython3",
   "version": "3.12.9"
  }
 },
 "nbformat": 4,
 "nbformat_minor": 5
}
